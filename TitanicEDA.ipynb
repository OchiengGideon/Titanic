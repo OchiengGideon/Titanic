{
 "cells": [
  {
   "cell_type": "markdown",
   "metadata": {},
   "source": [
    "# The Titanic Dataset EDA\n",
    "## Description\n",
    "In this notebook we delve into the Titanic dataset to uncover insignts about the factors that influenced passanger survival rates. Through a series of visualizations and statistical analysis we explore the impact of socio_economic status, gender and age on survival outcomes"
   ]
  },
  {
   "cell_type": "code",
   "execution_count": 19,
   "metadata": {},
   "outputs": [],
   "source": [
    "# importing necessary libraries\n",
    "import pandas as pd\n",
    "import numpy as np\n",
    "import matplotlib.pyplot as plt\n",
    "import seaborn as sns\n",
    "%matplotlib inline"
   ]
  },
  {
   "cell_type": "code",
   "execution_count": 12,
   "metadata": {},
   "outputs": [
    {
     "data": {
      "text/html": [
       "<div>\n",
       "<style scoped>\n",
       "    .dataframe tbody tr th:only-of-type {\n",
       "        vertical-align: middle;\n",
       "    }\n",
       "\n",
       "    .dataframe tbody tr th {\n",
       "        vertical-align: top;\n",
       "    }\n",
       "\n",
       "    .dataframe thead th {\n",
       "        text-align: right;\n",
       "    }\n",
       "</style>\n",
       "<table border=\"1\" class=\"dataframe\">\n",
       "  <thead>\n",
       "    <tr style=\"text-align: right;\">\n",
       "      <th></th>\n",
       "      <th>PassengerId</th>\n",
       "      <th>Survived</th>\n",
       "      <th>Pclass</th>\n",
       "      <th>Name</th>\n",
       "      <th>Sex</th>\n",
       "      <th>Age</th>\n",
       "      <th>SibSp</th>\n",
       "      <th>Parch</th>\n",
       "      <th>Ticket</th>\n",
       "      <th>Fare</th>\n",
       "      <th>Cabin</th>\n",
       "      <th>Embarked</th>\n",
       "    </tr>\n",
       "  </thead>\n",
       "  <tbody>\n",
       "    <tr>\n",
       "      <th>0</th>\n",
       "      <td>1.0</td>\n",
       "      <td>0.0</td>\n",
       "      <td>3</td>\n",
       "      <td>Braund, Mr. Owen Harris</td>\n",
       "      <td>male</td>\n",
       "      <td>22.0</td>\n",
       "      <td>1.0</td>\n",
       "      <td>0.0</td>\n",
       "      <td>A/5 21171</td>\n",
       "      <td>7.2500</td>\n",
       "      <td>NaN</td>\n",
       "      <td>S</td>\n",
       "    </tr>\n",
       "    <tr>\n",
       "      <th>1</th>\n",
       "      <td>2.0</td>\n",
       "      <td>1.0</td>\n",
       "      <td>1</td>\n",
       "      <td>Cumings, Mrs. John Bradley (Florence Briggs Th...</td>\n",
       "      <td>female</td>\n",
       "      <td>38.0</td>\n",
       "      <td>1.0</td>\n",
       "      <td>0.0</td>\n",
       "      <td>PC 17599</td>\n",
       "      <td>71.2833</td>\n",
       "      <td>C85</td>\n",
       "      <td>C</td>\n",
       "    </tr>\n",
       "    <tr>\n",
       "      <th>2</th>\n",
       "      <td>3.0</td>\n",
       "      <td>1.0</td>\n",
       "      <td>3</td>\n",
       "      <td>Heikkinen, Miss. Laina</td>\n",
       "      <td>female</td>\n",
       "      <td>26.0</td>\n",
       "      <td>0.0</td>\n",
       "      <td>0.0</td>\n",
       "      <td>STON/O2. 3101282</td>\n",
       "      <td>7.9250</td>\n",
       "      <td>NaN</td>\n",
       "      <td>S</td>\n",
       "    </tr>\n",
       "    <tr>\n",
       "      <th>3</th>\n",
       "      <td>4.0</td>\n",
       "      <td>1.0</td>\n",
       "      <td>1</td>\n",
       "      <td>Futrelle, Mrs. Jacques Heath (Lily May Peel)</td>\n",
       "      <td>female</td>\n",
       "      <td>35.0</td>\n",
       "      <td>1.0</td>\n",
       "      <td>0.0</td>\n",
       "      <td>113803</td>\n",
       "      <td>53.1000</td>\n",
       "      <td>C123</td>\n",
       "      <td>S</td>\n",
       "    </tr>\n",
       "    <tr>\n",
       "      <th>4</th>\n",
       "      <td>5.0</td>\n",
       "      <td>0.0</td>\n",
       "      <td>3</td>\n",
       "      <td>Allen, Mr. William Henry</td>\n",
       "      <td>male</td>\n",
       "      <td>35.0</td>\n",
       "      <td>0.0</td>\n",
       "      <td>0.0</td>\n",
       "      <td>373450</td>\n",
       "      <td>8.0500</td>\n",
       "      <td>NaN</td>\n",
       "      <td>S</td>\n",
       "    </tr>\n",
       "  </tbody>\n",
       "</table>\n",
       "</div>"
      ],
      "text/plain": [
       "   PassengerId  Survived Pclass  \\\n",
       "0          1.0       0.0      3   \n",
       "1          2.0       1.0      1   \n",
       "2          3.0       1.0      3   \n",
       "3          4.0       1.0      1   \n",
       "4          5.0       0.0      3   \n",
       "\n",
       "                                                Name     Sex   Age  SibSp  \\\n",
       "0                            Braund, Mr. Owen Harris    male  22.0    1.0   \n",
       "1  Cumings, Mrs. John Bradley (Florence Briggs Th...  female  38.0    1.0   \n",
       "2                             Heikkinen, Miss. Laina  female  26.0    0.0   \n",
       "3       Futrelle, Mrs. Jacques Heath (Lily May Peel)  female  35.0    1.0   \n",
       "4                           Allen, Mr. William Henry    male  35.0    0.0   \n",
       "\n",
       "   Parch            Ticket     Fare Cabin Embarked  \n",
       "0    0.0         A/5 21171   7.2500   NaN        S  \n",
       "1    0.0          PC 17599  71.2833   C85        C  \n",
       "2    0.0  STON/O2. 3101282   7.9250   NaN        S  \n",
       "3    0.0            113803  53.1000  C123        S  \n",
       "4    0.0            373450   8.0500   NaN        S  "
      ]
     },
     "execution_count": 12,
     "metadata": {},
     "output_type": "execute_result"
    }
   ],
   "source": [
    "# reading the titanic csv file into a variable called data and diplaying the first five rows of the dataset\n",
    "data = pd.read_csv('titanic.csv')\n",
    "\n",
    "# data preview of the first five columns\n",
    "data.head()"
   ]
  },
  {
   "cell_type": "markdown",
   "metadata": {},
   "source": [
    "## Data understanding\n"
   ]
  },
  {
   "cell_type": "markdown",
   "metadata": {},
   "source": [
    "### Data set Overview\n"
   ]
  },
  {
   "cell_type": "code",
   "execution_count": 17,
   "metadata": {},
   "outputs": [],
   "source": [
    "def df_desc(df):\n",
    "    \"\"\" \n",
    "    This function takes a dataframe as performs basic descriptive operations like \n",
    "    description for both numeric and non-numeric columns, it checks the size and shape of the \n",
    "    dataset and provides the columnn names\n",
    "    \"\"\"\n",
    "    # Prints shape of the dataset\n",
    "    print('The dataset has the following number of rows and columns:', df.shape)\n",
    "    \n",
    "    # Prints column names\n",
    "    print('Columns in the dataset:')\n",
    "    print(df.columns)\n",
    "    \n",
    "    # Prints descriptive statistics of the dataset\n",
    "    print('\\nDescriptive statistics:')\n",
    "    print(df.describe())\n",
    "\n",
    "    # printing decription for object columns\n",
    "    print('\\nDescription for object columns:')\n",
    "    print(df.describe(include =  ['O']))"
   ]
  },
  {
   "cell_type": "code",
   "execution_count": 18,
   "metadata": {},
   "outputs": [
    {
     "name": "stdout",
     "output_type": "stream",
     "text": [
      "The dataset has the following number of rows and columns: (1391, 12)\n",
      "Columns in the dataset:\n",
      "Index(['PassengerId', 'Survived', 'Pclass', 'Name', 'Sex', 'Age', 'SibSp',\n",
      "       'Parch', 'Ticket', 'Fare', 'Cabin', 'Embarked'],\n",
      "      dtype='object')\n",
      "\n",
      "Descriptive statistics:\n",
      "       PassengerId     Survived          Age        SibSp        Parch  \\\n",
      "count  1391.000000  1391.000000  1209.000000  1391.000000  1391.000000   \n",
      "mean    527.020848     0.381021    29.731894     1.399712     1.141625   \n",
      "std     307.457244     0.485812    16.070125     2.097919     1.771294   \n",
      "min       1.000000     0.000000     0.420000     0.000000     0.000000   \n",
      "25%     248.500000     0.000000    20.000000     0.000000     0.000000   \n",
      "50%     596.000000     0.000000    27.000000     1.000000     0.000000   \n",
      "75%     839.000000     1.000000    40.000000     2.000000     2.000000   \n",
      "max     891.000000     1.000000    80.000000     8.000000     6.000000   \n",
      "\n",
      "              Fare  \n",
      "count  1391.000000  \n",
      "mean     32.145048  \n",
      "std      48.662200  \n",
      "min       0.000000  \n",
      "25%       7.895800  \n",
      "50%      13.500000  \n",
      "75%      33.000000  \n",
      "max     512.329200  \n",
      "\n",
      "Description for object columns:\n",
      "       Pclass                     Name   Sex     Ticket Cabin Embarked\n",
      "count    1391                     1391  1391       1391   602     1289\n",
      "unique      4                      891     2        681   147        3\n",
      "top         3  Braund, Mr. Owen Harris  male  A/5 21171  E121        S\n",
      "freq      661                      101   892        101     8      830\n"
     ]
    }
   ],
   "source": [
    "df_desc(data)"
   ]
  },
  {
   "cell_type": "markdown",
   "metadata": {},
   "source": [
    "- Rows: 1391 (representing passengers)\n",
    "- Columns: 12 (representing the variables that may contribute to survival prediction)\n",
    " "
   ]
  },
  {
   "cell_type": "code",
   "execution_count": 20,
   "metadata": {},
   "outputs": [
    {
     "name": "stdout",
     "output_type": "stream",
     "text": [
      "<class 'pandas.core.frame.DataFrame'>\n",
      "RangeIndex: 1391 entries, 0 to 1390\n",
      "Data columns (total 12 columns):\n",
      " #   Column       Non-Null Count  Dtype  \n",
      "---  ------       --------------  -----  \n",
      " 0   PassengerId  1391 non-null   float64\n",
      " 1   Survived     1391 non-null   float64\n",
      " 2   Pclass       1391 non-null   object \n",
      " 3   Name         1391 non-null   object \n",
      " 4   Sex          1391 non-null   object \n",
      " 5   Age          1209 non-null   float64\n",
      " 6   SibSp        1391 non-null   float64\n",
      " 7   Parch        1391 non-null   float64\n",
      " 8   Ticket       1391 non-null   object \n",
      " 9   Fare         1391 non-null   float64\n",
      " 10  Cabin        602 non-null    object \n",
      " 11  Embarked     1289 non-null   object \n",
      "dtypes: float64(6), object(6)\n",
      "memory usage: 130.5+ KB\n"
     ]
    }
   ],
   "source": [
    "# consice summary of the dataset showing the total rows and columns and data types\n",
    "data.info()"
   ]
  },
  {
   "cell_type": "markdown",
   "metadata": {},
   "source": [
    "- The following columns have missing values: Age, Cabin and Embarked"
   ]
  },
  {
   "cell_type": "code",
   "execution_count": 21,
   "metadata": {},
   "outputs": [
    {
     "data": {
      "text/plain": [
       "100"
      ]
     },
     "execution_count": 21,
     "metadata": {},
     "output_type": "execute_result"
    }
   ],
   "source": [
    "# checking for duplicates\n",
    "data.duplicated().sum()"
   ]
  },
  {
   "cell_type": "markdown",
   "metadata": {},
   "source": [
    "- We have 100 duplicated rows in our dataset"
   ]
  },
  {
   "cell_type": "code",
   "execution_count": 23,
   "metadata": {},
   "outputs": [],
   "source": [
    "# droping duplicates \n",
    "data.drop_duplicates(keep='first', inplace=True)"
   ]
  },
  {
   "cell_type": "code",
   "execution_count": 24,
   "metadata": {},
   "outputs": [
    {
     "data": {
      "text/plain": [
       "PassengerId     0.000000\n",
       "Survived        0.000000\n",
       "Pclass          0.000000\n",
       "Name            0.000000\n",
       "Sex             0.000000\n",
       "Age            14.097599\n",
       "SibSp           0.000000\n",
       "Parch           0.000000\n",
       "Ticket          0.000000\n",
       "Fare            0.000000\n",
       "Cabin          53.369481\n",
       "Embarked        7.900852\n",
       "dtype: float64"
      ]
     },
     "execution_count": 24,
     "metadata": {},
     "output_type": "execute_result"
    }
   ],
   "source": [
    "# checking percentage null for each column\n",
    "data.isna().sum()/len(data) * 100"
   ]
  },
  {
   "cell_type": "markdown",
   "metadata": {},
   "source": [
    "- Age - About 14.10% of the entries in the age column are missing. Age could be an important factor in our analysis so we are going to fill the missing values with the mean age\n",
    "- Cabin -  this column has a high percentage of missing values so we are going to drop it\n",
    "- Embarked - with a low percentage of missing values we are going to impute the missing values with the mode given that the column contains non numeric values\n",
    "- Additionally we are going to drop the following colums because they might not be useful for our analysis "
   ]
  },
  {
   "cell_type": "code",
   "execution_count": 26,
   "metadata": {},
   "outputs": [],
   "source": [
    "# filling the missing values in the age column with mean\n",
    "data.Age.fillna(data.Age.mean(), inplace= True)\n",
    "\n",
    "# filling missing values in Embacked column with the mode of the column\n",
    "data.Embarked.fillna(data.Embarked.mode()[0], inplace= True)\n",
    "\n",
    "# Dropping columns\n",
    "\n",
    "data.drop(columns= ['Cabin', 'PassengerId', 'Ticket', 'Name'], inplace=True)"
   ]
  },
  {
   "cell_type": "code",
   "execution_count": 27,
   "metadata": {},
   "outputs": [],
   "source": [
    "#changing the Age column dataType to integer\n",
    "data.Age = data.Age.astype(int)"
   ]
  },
  {
   "cell_type": "code",
   "execution_count": 32,
   "metadata": {},
   "outputs": [
    {
     "data": {
      "text/plain": [
       "array([15.48813504, 17.15189366, 16.02763376, 15.44883183, 14.23654799,\n",
       "       16.45894113, 14.37587211, 18.91773001, 19.63662761, 13.83441519])"
      ]
     },
     "execution_count": 32,
     "metadata": {},
     "output_type": "execute_result"
    }
   ],
   "source": [
    "np.random.seed(0)\n",
    "np.random.uniform(10,20,10)"
   ]
  },
  {
   "cell_type": "code",
   "execution_count": null,
   "metadata": {},
   "outputs": [],
   "source": []
  },
  {
   "cell_type": "code",
   "execution_count": null,
   "metadata": {},
   "outputs": [],
   "source": []
  }
 ],
 "metadata": {
  "kernelspec": {
   "display_name": "learn-env",
   "language": "python",
   "name": "python3"
  },
  "language_info": {
   "codemirror_mode": {
    "name": "ipython",
    "version": 3
   },
   "file_extension": ".py",
   "mimetype": "text/x-python",
   "name": "python",
   "nbconvert_exporter": "python",
   "pygments_lexer": "ipython3",
   "version": "3.8.5"
  }
 },
 "nbformat": 4,
 "nbformat_minor": 2
}
